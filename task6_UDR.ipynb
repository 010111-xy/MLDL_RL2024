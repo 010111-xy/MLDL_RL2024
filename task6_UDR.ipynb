{
 "cells": [
  {
   "cell_type": "code",
   "execution_count": 1,
   "metadata": {},
   "outputs": [
    {
     "name": "stderr",
     "output_type": "stream",
     "text": [
      "/home/federica/anaconda3/envs/mldl/lib/python3.7/site-packages/tqdm/auto.py:21: TqdmWarning: IProgress not found. Please update jupyter and ipywidgets. See https://ipywidgets.readthedocs.io/en/stable/user_install.html\n",
      "  from .autonotebook import tqdm as notebook_tqdm\n"
     ]
    }
   ],
   "source": [
    "#import libraries \n",
    "import gym\n",
    "from env.custom_hopper import *\n",
    "from stable_baselines3 import PPO\n",
    "from stable_baselines3.common.env_util import make_vec_env\n",
    "from stable_baselines3.common.evaluation import evaluate_policy\n",
    "import numpy as np"
   ]
  },
  {
   "cell_type": "code",
   "execution_count": 2,
   "metadata": {},
   "outputs": [],
   "source": [
    "#import env\n",
    "env = gym.make('CustomHopper-source-v0')"
   ]
  },
  {
   "cell_type": "code",
   "execution_count": 3,
   "metadata": {},
   "outputs": [
    {
     "name": "stdout",
     "output_type": "stream",
     "text": [
      "('world', 'torso', 'thigh', 'leg', 'foot')\n"
     ]
    }
   ],
   "source": [
    "#print all body names of the en\n",
    "print(env.sim.model.body_names)"
   ]
  },
  {
   "cell_type": "markdown",
   "metadata": {},
   "source": [
    "1. world\n",
    "    - serves as a reference frame for the entire simulation. It is the origin point from which all other bodies' positions and orientations are measured\n",
    "    - not a physical object\n",
    "    -  Other bodies are positioned and oriented relative to the 'world' body\n",
    "2. Torso\n",
    "    - serves as the main mass of the robot and contains the core components. The torso is responsible for maintaining the robot's **balance** and overall **stability** during movement.\n",
    "    - NOTE: we do **not** want to randomize the torso mass!\n",
    "3. Thigh\n",
    "     - plays a crucial role in the **locomotion** of the robot.\n",
    "     - The thigh moves to create the primary **force needed for hopping or walking.**\n",
    "     - changing mass impacts: the heavier is the mass, the higher is the force and the energy needed to move\n",
    "4. Leg \n",
    "    - contributes to extending and retracting movements necessary for jumping and landing.\n",
    "    - changing mass impacts: it influences how effectively force is transferred from thigh to foot\n",
    "        - Heavier legs might better absorb impacts but could also slow down rapid movements.\n",
    "5. Foot\n",
    "    - provides stability and traction during locomotion.\n",
    "    - changing mass impacts: how the robot lands on the ground and how it lifts"
   ]
  },
  {
   "cell_type": "markdown",
   "metadata": {},
   "source": [
    "We want to work on the link masses of the Hopper robot, that is: thigh, leg, foot.  Specifically, we want to design a  uniform distribution over these masses in the source environment. \\\\\n",
    "Keep in mind that the in the source env torso_mass_env = torso_mass -1 "
   ]
  },
  {
   "cell_type": "code",
   "execution_count": 4,
   "metadata": {},
   "outputs": [
    {
     "name": "stdout",
     "output_type": "stream",
     "text": [
      "default mass of the torso:2.534291735288517 \n",
      "default mass of the thigh:3.9269908169872427 \n",
      "default mass of the leg:2.7143360527015816 \n",
      "default mass of the foot :5.0893800988154645\n"
     ]
    }
   ],
   "source": [
    "#Default values for the masses\n",
    "print(f\"default mass of the torso:{env.sim.model.body_mass[1]} \\ndefault mass of the thigh:{env.sim.model.body_mass[2]} \\ndefault mass of the leg:{env.sim.model.body_mass[3]} \\ndefault mass of the foot :{env.sim.model.body_mass[4]}\")"
   ]
  },
  {
   "cell_type": "markdown",
   "metadata": {},
   "source": [
    "Let us try to use this configuration:\n",
    "- we keep the default value for the torso's mass in the target env\n",
    "- set the length of the mass interval on\n",
    "    - 1 kg for  thigh and leg\n",
    "    - 0.5 kg for the foot\n",
    "        - reasoning: a light foot provides more agility, but we do not want the weight to vary drastically for the sake of stability"
   ]
  },
  {
   "cell_type": "code",
   "execution_count": 5,
   "metadata": {},
   "outputs": [],
   "source": [
    "# Define mass bounds for randomization\n",
    "mass_bounds = {\n",
    "    'thigh': {'low': 3.5, 'high': 4.5},  \n",
    "    'leg': {'low': 2.25, 'high': 3.25},    \n",
    "    'foot': {'low': 4.75, 'high': 5.25}    \n",
    "}\n",
    "\n",
    "# Define the fixed torso mass relative to the target environment\n",
    "target_torso_mass = env.sim.model.body_mass[1] \n",
    "source_torso_mass = target_torso_mass - 1.0\n"
   ]
  },
  {
   "cell_type": "markdown",
   "metadata": {},
   "source": [
    "Let us customize the source environment by accessing the MuJoCo model directly. \\\\\n",
    "These changes will only affect the execution of that file, since each environment instance in Gym operates independently. Other files or subsequent executions of other files will not be affected by these changes unless they also modify the MuJoCo model themselves.\n",
    "\n",
    "**NOTE**: If you want to persist modifications to the MuJoCo model across multiple executions or instances, you would need to save the modified parameters and apply them when creating new environment instances."
   ]
  },
  {
   "cell_type": "code",
   "execution_count": 6,
   "metadata": {},
   "outputs": [],
   "source": [
    "#Define a custom environment wrapper that randomizes the parameters each time the environment is reset.\n",
    "class CustomHopperEnvWrapper(gym.Wrapper):\n",
    "    def __init__(self, env):\n",
    "        super(CustomHopperEnvWrapper, self).__init__(env)\n",
    "        self.env = env\n",
    "        #Access the Mujoco model\n",
    "        self.model = env.unwrapped.sim.model\n",
    "\n",
    "    def reset(self, **kwargs):\n",
    "        # Randomize masses for thigh, leg, and foot\n",
    "        thigh_mass = np.random.uniform(mass_bounds['thigh']['low'], mass_bounds['thigh']['high'])\n",
    "        leg_mass = np.random.uniform(mass_bounds['leg']['low'], mass_bounds['leg']['high'])\n",
    "        foot_mass = np.random.uniform(mass_bounds['foot']['low'], mass_bounds['foot']['high'])\n",
    "\n",
    "        # Set the masses in the environment\n",
    "        model.body_mass[2] = thigh_mass       # Thigh mass\n",
    "        model.body_mass[3] = leg_mass         # Leg mass\n",
    "        model.body_mass[4] = foot_mass        # Foot mass\n",
    "        model.body_mass[1] = source_torso_mass  # Torso mass\n",
    "\n",
    "        return self.env.reset(**kwargs)"
   ]
  },
  {
   "cell_type": "code",
   "execution_count": 12,
   "metadata": {},
   "outputs": [
    {
     "ename": "TypeError",
     "evalue": "'list' object is not callable",
     "output_type": "error",
     "traceback": [
      "\u001b[0;31m---------------------------------------------------------------------------\u001b[0m",
      "\u001b[0;31mTypeError\u001b[0m                                 Traceback (most recent call last)",
      "\u001b[0;32m/tmp/ipykernel_1340/176194605.py\u001b[0m in \u001b[0;36m<module>\u001b[0;34m\u001b[0m\n\u001b[1;32m     14\u001b[0m \u001b[0;34m\u001b[0m\u001b[0m\n\u001b[1;32m     15\u001b[0m \u001b[0;31m# Create the vectorized environment using make_vec_env\u001b[0m\u001b[0;34m\u001b[0m\u001b[0;34m\u001b[0m\u001b[0;34m\u001b[0m\u001b[0m\n\u001b[0;32m---> 16\u001b[0;31m \u001b[0msource_vec_env\u001b[0m \u001b[0;34m=\u001b[0m \u001b[0mmake_vec_env\u001b[0m\u001b[0;34m(\u001b[0m\u001b[0menv_fns\u001b[0m\u001b[0;34m,\u001b[0m \u001b[0mmonitor_dir\u001b[0m\u001b[0;34m=\u001b[0m\u001b[0;34m\"./logs/\"\u001b[0m\u001b[0;34m)\u001b[0m\u001b[0;34m\u001b[0m\u001b[0;34m\u001b[0m\u001b[0m\n\u001b[0m\u001b[1;32m     17\u001b[0m \u001b[0;34m\u001b[0m\u001b[0m\n\u001b[1;32m     18\u001b[0m \u001b[0;34m\u001b[0m\u001b[0m\n",
      "\u001b[0;32m~/anaconda3/envs/mldl/lib/python3.7/site-packages/stable_baselines3/common/env_util.py\u001b[0m in \u001b[0;36mmake_vec_env\u001b[0;34m(env_id, n_envs, seed, start_index, monitor_dir, wrapper_class, env_kwargs, vec_env_cls, vec_env_kwargs, monitor_kwargs, wrapper_kwargs)\u001b[0m\n\u001b[1;32m    106\u001b[0m         \u001b[0mvec_env_cls\u001b[0m \u001b[0;34m=\u001b[0m \u001b[0mDummyVecEnv\u001b[0m\u001b[0;34m\u001b[0m\u001b[0;34m\u001b[0m\u001b[0m\n\u001b[1;32m    107\u001b[0m \u001b[0;34m\u001b[0m\u001b[0m\n\u001b[0;32m--> 108\u001b[0;31m     \u001b[0;32mreturn\u001b[0m \u001b[0mvec_env_cls\u001b[0m\u001b[0;34m(\u001b[0m\u001b[0;34m[\u001b[0m\u001b[0mmake_env\u001b[0m\u001b[0;34m(\u001b[0m\u001b[0mi\u001b[0m \u001b[0;34m+\u001b[0m \u001b[0mstart_index\u001b[0m\u001b[0;34m)\u001b[0m \u001b[0;32mfor\u001b[0m \u001b[0mi\u001b[0m \u001b[0;32min\u001b[0m \u001b[0mrange\u001b[0m\u001b[0;34m(\u001b[0m\u001b[0mn_envs\u001b[0m\u001b[0;34m)\u001b[0m\u001b[0;34m]\u001b[0m\u001b[0;34m,\u001b[0m \u001b[0;34m**\u001b[0m\u001b[0mvec_env_kwargs\u001b[0m\u001b[0;34m)\u001b[0m\u001b[0;34m\u001b[0m\u001b[0;34m\u001b[0m\u001b[0m\n\u001b[0m\u001b[1;32m    109\u001b[0m \u001b[0;34m\u001b[0m\u001b[0m\n\u001b[1;32m    110\u001b[0m \u001b[0;34m\u001b[0m\u001b[0m\n",
      "\u001b[0;32m~/anaconda3/envs/mldl/lib/python3.7/site-packages/stable_baselines3/common/vec_env/dummy_vec_env.py\u001b[0m in \u001b[0;36m__init__\u001b[0;34m(self, env_fns)\u001b[0m\n\u001b[1;32m     24\u001b[0m \u001b[0;34m\u001b[0m\u001b[0m\n\u001b[1;32m     25\u001b[0m     \u001b[0;32mdef\u001b[0m \u001b[0m__init__\u001b[0m\u001b[0;34m(\u001b[0m\u001b[0mself\u001b[0m\u001b[0;34m,\u001b[0m \u001b[0menv_fns\u001b[0m\u001b[0;34m:\u001b[0m \u001b[0mList\u001b[0m\u001b[0;34m[\u001b[0m\u001b[0mCallable\u001b[0m\u001b[0;34m[\u001b[0m\u001b[0;34m[\u001b[0m\u001b[0;34m]\u001b[0m\u001b[0;34m,\u001b[0m \u001b[0mgym\u001b[0m\u001b[0;34m.\u001b[0m\u001b[0mEnv\u001b[0m\u001b[0;34m]\u001b[0m\u001b[0;34m]\u001b[0m\u001b[0;34m)\u001b[0m\u001b[0;34m:\u001b[0m\u001b[0;34m\u001b[0m\u001b[0;34m\u001b[0m\u001b[0m\n\u001b[0;32m---> 26\u001b[0;31m         \u001b[0mself\u001b[0m\u001b[0;34m.\u001b[0m\u001b[0menvs\u001b[0m \u001b[0;34m=\u001b[0m \u001b[0;34m[\u001b[0m\u001b[0mfn\u001b[0m\u001b[0;34m(\u001b[0m\u001b[0;34m)\u001b[0m \u001b[0;32mfor\u001b[0m \u001b[0mfn\u001b[0m \u001b[0;32min\u001b[0m \u001b[0menv_fns\u001b[0m\u001b[0;34m]\u001b[0m\u001b[0;34m\u001b[0m\u001b[0;34m\u001b[0m\u001b[0m\n\u001b[0m\u001b[1;32m     27\u001b[0m         \u001b[0;32mif\u001b[0m \u001b[0mlen\u001b[0m\u001b[0;34m(\u001b[0m\u001b[0mset\u001b[0m\u001b[0;34m(\u001b[0m\u001b[0;34m[\u001b[0m\u001b[0mid\u001b[0m\u001b[0;34m(\u001b[0m\u001b[0menv\u001b[0m\u001b[0;34m.\u001b[0m\u001b[0munwrapped\u001b[0m\u001b[0;34m)\u001b[0m \u001b[0;32mfor\u001b[0m \u001b[0menv\u001b[0m \u001b[0;32min\u001b[0m \u001b[0mself\u001b[0m\u001b[0;34m.\u001b[0m\u001b[0menvs\u001b[0m\u001b[0;34m]\u001b[0m\u001b[0;34m)\u001b[0m\u001b[0;34m)\u001b[0m \u001b[0;34m!=\u001b[0m \u001b[0mlen\u001b[0m\u001b[0;34m(\u001b[0m\u001b[0mself\u001b[0m\u001b[0;34m.\u001b[0m\u001b[0menvs\u001b[0m\u001b[0;34m)\u001b[0m\u001b[0;34m:\u001b[0m\u001b[0;34m\u001b[0m\u001b[0;34m\u001b[0m\u001b[0m\n\u001b[1;32m     28\u001b[0m             raise ValueError(\n",
      "\u001b[0;32m~/anaconda3/envs/mldl/lib/python3.7/site-packages/stable_baselines3/common/vec_env/dummy_vec_env.py\u001b[0m in \u001b[0;36m<listcomp>\u001b[0;34m(.0)\u001b[0m\n\u001b[1;32m     24\u001b[0m \u001b[0;34m\u001b[0m\u001b[0m\n\u001b[1;32m     25\u001b[0m     \u001b[0;32mdef\u001b[0m \u001b[0m__init__\u001b[0m\u001b[0;34m(\u001b[0m\u001b[0mself\u001b[0m\u001b[0;34m,\u001b[0m \u001b[0menv_fns\u001b[0m\u001b[0;34m:\u001b[0m \u001b[0mList\u001b[0m\u001b[0;34m[\u001b[0m\u001b[0mCallable\u001b[0m\u001b[0;34m[\u001b[0m\u001b[0;34m[\u001b[0m\u001b[0;34m]\u001b[0m\u001b[0;34m,\u001b[0m \u001b[0mgym\u001b[0m\u001b[0;34m.\u001b[0m\u001b[0mEnv\u001b[0m\u001b[0;34m]\u001b[0m\u001b[0;34m]\u001b[0m\u001b[0;34m)\u001b[0m\u001b[0;34m:\u001b[0m\u001b[0;34m\u001b[0m\u001b[0;34m\u001b[0m\u001b[0m\n\u001b[0;32m---> 26\u001b[0;31m         \u001b[0mself\u001b[0m\u001b[0;34m.\u001b[0m\u001b[0menvs\u001b[0m \u001b[0;34m=\u001b[0m \u001b[0;34m[\u001b[0m\u001b[0mfn\u001b[0m\u001b[0;34m(\u001b[0m\u001b[0;34m)\u001b[0m \u001b[0;32mfor\u001b[0m \u001b[0mfn\u001b[0m \u001b[0;32min\u001b[0m \u001b[0menv_fns\u001b[0m\u001b[0;34m]\u001b[0m\u001b[0;34m\u001b[0m\u001b[0;34m\u001b[0m\u001b[0m\n\u001b[0m\u001b[1;32m     27\u001b[0m         \u001b[0;32mif\u001b[0m \u001b[0mlen\u001b[0m\u001b[0;34m(\u001b[0m\u001b[0mset\u001b[0m\u001b[0;34m(\u001b[0m\u001b[0;34m[\u001b[0m\u001b[0mid\u001b[0m\u001b[0;34m(\u001b[0m\u001b[0menv\u001b[0m\u001b[0;34m.\u001b[0m\u001b[0munwrapped\u001b[0m\u001b[0;34m)\u001b[0m \u001b[0;32mfor\u001b[0m \u001b[0menv\u001b[0m \u001b[0;32min\u001b[0m \u001b[0mself\u001b[0m\u001b[0;34m.\u001b[0m\u001b[0menvs\u001b[0m\u001b[0;34m]\u001b[0m\u001b[0;34m)\u001b[0m\u001b[0;34m)\u001b[0m \u001b[0;34m!=\u001b[0m \u001b[0mlen\u001b[0m\u001b[0;34m(\u001b[0m\u001b[0mself\u001b[0m\u001b[0;34m.\u001b[0m\u001b[0menvs\u001b[0m\u001b[0;34m)\u001b[0m\u001b[0;34m:\u001b[0m\u001b[0;34m\u001b[0m\u001b[0;34m\u001b[0m\u001b[0m\n\u001b[1;32m     28\u001b[0m             raise ValueError(\n",
      "\u001b[0;32m~/anaconda3/envs/mldl/lib/python3.7/site-packages/stable_baselines3/common/env_util.py\u001b[0m in \u001b[0;36m_init\u001b[0;34m()\u001b[0m\n\u001b[1;32m     83\u001b[0m                 \u001b[0menv\u001b[0m \u001b[0;34m=\u001b[0m \u001b[0mgym\u001b[0m\u001b[0;34m.\u001b[0m\u001b[0mmake\u001b[0m\u001b[0;34m(\u001b[0m\u001b[0menv_id\u001b[0m\u001b[0;34m,\u001b[0m \u001b[0;34m**\u001b[0m\u001b[0menv_kwargs\u001b[0m\u001b[0;34m)\u001b[0m\u001b[0;34m\u001b[0m\u001b[0;34m\u001b[0m\u001b[0m\n\u001b[1;32m     84\u001b[0m             \u001b[0;32melse\u001b[0m\u001b[0;34m:\u001b[0m\u001b[0;34m\u001b[0m\u001b[0;34m\u001b[0m\u001b[0m\n\u001b[0;32m---> 85\u001b[0;31m                 \u001b[0menv\u001b[0m \u001b[0;34m=\u001b[0m \u001b[0menv_id\u001b[0m\u001b[0;34m(\u001b[0m\u001b[0;34m**\u001b[0m\u001b[0menv_kwargs\u001b[0m\u001b[0;34m)\u001b[0m\u001b[0;34m\u001b[0m\u001b[0;34m\u001b[0m\u001b[0m\n\u001b[0m\u001b[1;32m     86\u001b[0m             \u001b[0;32mif\u001b[0m \u001b[0mseed\u001b[0m \u001b[0;32mis\u001b[0m \u001b[0;32mnot\u001b[0m \u001b[0;32mNone\u001b[0m\u001b[0;34m:\u001b[0m\u001b[0;34m\u001b[0m\u001b[0;34m\u001b[0m\u001b[0m\n\u001b[1;32m     87\u001b[0m                 \u001b[0menv\u001b[0m\u001b[0;34m.\u001b[0m\u001b[0mseed\u001b[0m\u001b[0;34m(\u001b[0m\u001b[0mseed\u001b[0m \u001b[0;34m+\u001b[0m \u001b[0mrank\u001b[0m\u001b[0;34m)\u001b[0m\u001b[0;34m\u001b[0m\u001b[0;34m\u001b[0m\u001b[0m\n",
      "\u001b[0;31mTypeError\u001b[0m: 'list' object is not callable"
     ]
    }
   ],
   "source": [
    "# Define a function to create a new instance of the environment\n",
    "def make_env(env_id, rank, seed=0):\n",
    "    def _init():\n",
    "        env = gym.make(env_id)\n",
    "        env.seed(seed + rank)\n",
    "        return CustomHopperEnvWrapper(env)\n",
    "    return _init\n",
    "\n",
    "# Create a list of env_fns, each being a callable that returns a new environment instance\n",
    "n_envs = 4\n",
    "env_id = 'CustomHopper-source-v0'\n",
    "seed = 0\n",
    "env_fns = [make_env(env_id, i, seed) for i in range(n_envs)]\n",
    "\n",
    "# Create the vectorized environment using make_vec_env\n",
    "source_vec_env = make_vec_env(env_fns, monitor_dir=\"./logs/\")\n",
    "\n",
    "\n",
    "# Create the PPO model\n",
    "model = PPO(\"MlpPolicy\", source_vec_env, verbose=0)\n",
    "\n",
    "# Train the model\n",
    "model.learn(total_timesteps=1000000)\n",
    "\n",
    "# Evaluate the policy in the source environment\n",
    "mean_reward, std_reward = evaluate_policy(model, source_vec_env, n_eval_episodes=10)\n",
    "print(f\"Mean reward in source environment: {mean_reward} +/- {std_reward}\")\n"
   ]
  },
  {
   "cell_type": "code",
   "execution_count": null,
   "metadata": {},
   "outputs": [],
   "source": [
    "#save the trained model\n",
    "model.save(\"task6_trained_model.zip\")\n"
   ]
  },
  {
   "cell_type": "code",
   "execution_count": null,
   "metadata": {},
   "outputs": [
    {
     "name": "stderr",
     "output_type": "stream",
     "text": [
      "/home/federica/anaconda3/envs/mldl/lib/python3.7/site-packages/stable_baselines3/common/evaluation.py:71: UserWarning: Evaluation environment is not wrapped with a ``Monitor`` wrapper. This may result in reporting modified episode lengths and rewards, if other wrappers happen to modify these. Consider wrapping environment first with ``Monitor`` wrapper.\n",
      "  UserWarning,\n"
     ]
    },
    {
     "name": "stdout",
     "output_type": "stream",
     "text": [
      "Mean reward on source environment: 1374.1071713209153 +/- 152.4798868139296\n",
      "Mean reward on target environment: 938.6095947742463 +/- 6.220978588408309\n"
     ]
    }
   ],
   "source": [
    "# Load the trained model\n",
    "trained_model = PPO.load(\"task6_trained_model.zip\")\n",
    "\n",
    "# Create environments for source and target environments\n",
    "source_env = gym.make('CustomHopper-source-v0')\n",
    "target_env = gym.make('CustomHopper-target-v0')\n",
    "\n",
    "# Evaluate the trained policy on the source environment\n",
    "mean_reward_source, std_reward_source = evaluate_policy(trained_model, source_env, n_eval_episodes=10)\n",
    "print(f\"Mean reward on source environment: {mean_reward_source} +/- {std_reward_source}\")\n",
    "\n",
    "# Evaluate the trained policy on the target environment\n",
    "mean_reward_target, std_reward_target = evaluate_policy(trained_model, target_env, n_eval_episodes=10)\n",
    "print(f\"Mean reward on target environment: {mean_reward_target} +/- {std_reward_target}\")"
   ]
  },
  {
   "cell_type": "code",
   "execution_count": null,
   "metadata": {},
   "outputs": [],
   "source": []
  }
 ],
 "metadata": {
  "kernelspec": {
   "display_name": "mldl",
   "language": "python",
   "name": "python3"
  },
  "language_info": {
   "codemirror_mode": {
    "name": "ipython",
    "version": 3
   },
   "file_extension": ".py",
   "mimetype": "text/x-python",
   "name": "python",
   "nbconvert_exporter": "python",
   "pygments_lexer": "ipython3",
   "version": "3.7.12"
  }
 },
 "nbformat": 4,
 "nbformat_minor": 2
}
